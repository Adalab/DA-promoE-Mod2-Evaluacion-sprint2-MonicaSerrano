{
 "cells": [
  {
   "cell_type": "markdown",
   "metadata": {},
   "source": [
    "# Evaluación Módulo 2 Sprint 2 Mónica Serrano"
   ]
  },
  {
   "cell_type": "markdown",
   "metadata": {},
   "source": [
    "## Ejercicios con código final en funciones."
   ]
  },
  {
   "cell_type": "code",
   "execution_count": 105,
   "metadata": {},
   "outputs": [],
   "source": [
    "import requests\n",
    "import pandas as pd\n",
    "import numpy as np\n",
    "from geopy.geocoders import Nominatim\n",
    "import mysql.connector"
   ]
  },
  {
   "cell_type": "markdown",
   "metadata": {},
   "source": [
    "1. Utilizando la API extraed toda la información que podáis de ella. La url para hacer las llamadas es:"
   ]
  },
  {
   "cell_type": "code",
   "execution_count": 106,
   "metadata": {},
   "outputs": [],
   "source": [
    "lista = ['Canada','Argentina','United States']"
   ]
  },
  {
   "cell_type": "code",
   "execution_count": 107,
   "metadata": {},
   "outputs": [],
   "source": [
    "def sacar_informacion(lista_paises):\n",
    "    \"\"\"Esta función saca toda la información de una api  de los paises definidos.\n",
    "        Args:\n",
    "            lista_paises(list): lista de paises del cual queremos saber toda la información.\n",
    "        return: aunque esta función no devuelve nada, genera un dataframe con la información actualizada de los paises seleccionados.\n",
    "        \"\"\"\n",
    "    df = pd.DataFrame()\n",
    "    for pais in lista_paises:\n",
    "        api_url = f\"http://universities.hipolabs.com/search?country={pais}\"\n",
    "        response = requests.get(api_url)\n",
    "        if response.status_code != 200:\n",
    "            print(response.reason)\n",
    "            print(response.status_code)\n",
    "            break\n",
    "        df_pais = pd.json_normalize(response.json())\n",
    "        df = pd.concat([df, df_pais], axis = 0)\n",
    "    return df"
   ]
  },
  {
   "cell_type": "code",
   "execution_count": 108,
   "metadata": {},
   "outputs": [],
   "source": [
    "df = sacar_informacion(lista)"
   ]
  },
  {
   "cell_type": "code",
   "execution_count": 109,
   "metadata": {},
   "outputs": [
    {
     "data": {
      "text/html": [
       "<div>\n",
       "<style scoped>\n",
       "    .dataframe tbody tr th:only-of-type {\n",
       "        vertical-align: middle;\n",
       "    }\n",
       "\n",
       "    .dataframe tbody tr th {\n",
       "        vertical-align: top;\n",
       "    }\n",
       "\n",
       "    .dataframe thead th {\n",
       "        text-align: right;\n",
       "    }\n",
       "</style>\n",
       "<table border=\"1\" class=\"dataframe\">\n",
       "  <thead>\n",
       "    <tr style=\"text-align: right;\">\n",
       "      <th></th>\n",
       "      <th>web_pages</th>\n",
       "      <th>alpha_two_code</th>\n",
       "      <th>state-province</th>\n",
       "      <th>name</th>\n",
       "      <th>domains</th>\n",
       "      <th>country</th>\n",
       "    </tr>\n",
       "  </thead>\n",
       "  <tbody>\n",
       "    <tr>\n",
       "      <th>0</th>\n",
       "      <td>[https://www.cstj.qc.ca, https://ccmt.cstj.qc....</td>\n",
       "      <td>CA</td>\n",
       "      <td>Quebec</td>\n",
       "      <td>Cégep de Saint-Jérôme</td>\n",
       "      <td>[cstj.qc.ca]</td>\n",
       "      <td>Canada</td>\n",
       "    </tr>\n",
       "    <tr>\n",
       "      <th>1</th>\n",
       "      <td>[https://www.lambtoncollege.ca]</td>\n",
       "      <td>CA</td>\n",
       "      <td>Ontario</td>\n",
       "      <td>Lambton College</td>\n",
       "      <td>[lambtoncollege.ca, mylambton.ca]</td>\n",
       "      <td>Canada</td>\n",
       "    </tr>\n",
       "    <tr>\n",
       "      <th>2</th>\n",
       "      <td>[http://www.acadiau.ca/]</td>\n",
       "      <td>CA</td>\n",
       "      <td>Nova Scotia</td>\n",
       "      <td>Acadia University</td>\n",
       "      <td>[acadiau.ca]</td>\n",
       "      <td>Canada</td>\n",
       "    </tr>\n",
       "    <tr>\n",
       "      <th>3</th>\n",
       "      <td>[http://www.algonquincollege.com/]</td>\n",
       "      <td>CA</td>\n",
       "      <td>Ontario</td>\n",
       "      <td>Algonquin College</td>\n",
       "      <td>[algonquincollege.com]</td>\n",
       "      <td>Canada</td>\n",
       "    </tr>\n",
       "    <tr>\n",
       "      <th>4</th>\n",
       "      <td>[http://www.ashtoncollege.com/]</td>\n",
       "      <td>CA</td>\n",
       "      <td>British Columbia</td>\n",
       "      <td>Ashton College</td>\n",
       "      <td>[ashtoncollege.com]</td>\n",
       "      <td>Canada</td>\n",
       "    </tr>\n",
       "  </tbody>\n",
       "</table>\n",
       "</div>"
      ],
      "text/plain": [
       "                                           web_pages alpha_two_code  \\\n",
       "0  [https://www.cstj.qc.ca, https://ccmt.cstj.qc....             CA   \n",
       "1                    [https://www.lambtoncollege.ca]             CA   \n",
       "2                           [http://www.acadiau.ca/]             CA   \n",
       "3                 [http://www.algonquincollege.com/]             CA   \n",
       "4                    [http://www.ashtoncollege.com/]             CA   \n",
       "\n",
       "     state-province                   name                            domains  \\\n",
       "0            Quebec  Cégep de Saint-Jérôme                       [cstj.qc.ca]   \n",
       "1           Ontario        Lambton College  [lambtoncollege.ca, mylambton.ca]   \n",
       "2       Nova Scotia      Acadia University                       [acadiau.ca]   \n",
       "3           Ontario      Algonquin College             [algonquincollege.com]   \n",
       "4  British Columbia         Ashton College                [ashtoncollege.com]   \n",
       "\n",
       "  country  \n",
       "0  Canada  \n",
       "1  Canada  \n",
       "2  Canada  \n",
       "3  Canada  \n",
       "4  Canada  "
      ]
     },
     "execution_count": 109,
     "metadata": {},
     "output_type": "execute_result"
    }
   ],
   "source": [
    "df.head()"
   ]
  },
  {
   "cell_type": "markdown",
   "metadata": {},
   "source": [
    "2. Una vez tengáis todos los datos de la API, deberéis realizar una serie de procesos de limpieza, estos incluyen:"
   ]
  },
  {
   "cell_type": "markdown",
   "metadata": {},
   "source": [
    "- Cambiad los nombres de las columnas para homogeneizarlas, tenemos columnas que tienen - y otras _. Unifícalo para que todo vaya con _."
   ]
  },
  {
   "cell_type": "code",
   "execution_count": 110,
   "metadata": {},
   "outputs": [],
   "source": [
    "nuevas_columna = {col: col.replace(\"-\", \"_\") for col in df.columns}\n",
    "df.rename(columns= nuevas_columna, inplace = True)"
   ]
  },
  {
   "cell_type": "code",
   "execution_count": 111,
   "metadata": {},
   "outputs": [
    {
     "data": {
      "text/html": [
       "<div>\n",
       "<style scoped>\n",
       "    .dataframe tbody tr th:only-of-type {\n",
       "        vertical-align: middle;\n",
       "    }\n",
       "\n",
       "    .dataframe tbody tr th {\n",
       "        vertical-align: top;\n",
       "    }\n",
       "\n",
       "    .dataframe thead th {\n",
       "        text-align: right;\n",
       "    }\n",
       "</style>\n",
       "<table border=\"1\" class=\"dataframe\">\n",
       "  <thead>\n",
       "    <tr style=\"text-align: right;\">\n",
       "      <th></th>\n",
       "      <th>web_pages</th>\n",
       "      <th>alpha_two_code</th>\n",
       "      <th>state_province</th>\n",
       "      <th>name</th>\n",
       "      <th>domains</th>\n",
       "      <th>country</th>\n",
       "    </tr>\n",
       "  </thead>\n",
       "  <tbody>\n",
       "    <tr>\n",
       "      <th>0</th>\n",
       "      <td>[https://www.cstj.qc.ca, https://ccmt.cstj.qc....</td>\n",
       "      <td>CA</td>\n",
       "      <td>Quebec</td>\n",
       "      <td>Cégep de Saint-Jérôme</td>\n",
       "      <td>[cstj.qc.ca]</td>\n",
       "      <td>Canada</td>\n",
       "    </tr>\n",
       "    <tr>\n",
       "      <th>1</th>\n",
       "      <td>[https://www.lambtoncollege.ca]</td>\n",
       "      <td>CA</td>\n",
       "      <td>Ontario</td>\n",
       "      <td>Lambton College</td>\n",
       "      <td>[lambtoncollege.ca, mylambton.ca]</td>\n",
       "      <td>Canada</td>\n",
       "    </tr>\n",
       "    <tr>\n",
       "      <th>2</th>\n",
       "      <td>[http://www.acadiau.ca/]</td>\n",
       "      <td>CA</td>\n",
       "      <td>Nova Scotia</td>\n",
       "      <td>Acadia University</td>\n",
       "      <td>[acadiau.ca]</td>\n",
       "      <td>Canada</td>\n",
       "    </tr>\n",
       "    <tr>\n",
       "      <th>3</th>\n",
       "      <td>[http://www.algonquincollege.com/]</td>\n",
       "      <td>CA</td>\n",
       "      <td>Ontario</td>\n",
       "      <td>Algonquin College</td>\n",
       "      <td>[algonquincollege.com]</td>\n",
       "      <td>Canada</td>\n",
       "    </tr>\n",
       "    <tr>\n",
       "      <th>4</th>\n",
       "      <td>[http://www.ashtoncollege.com/]</td>\n",
       "      <td>CA</td>\n",
       "      <td>British Columbia</td>\n",
       "      <td>Ashton College</td>\n",
       "      <td>[ashtoncollege.com]</td>\n",
       "      <td>Canada</td>\n",
       "    </tr>\n",
       "  </tbody>\n",
       "</table>\n",
       "</div>"
      ],
      "text/plain": [
       "                                           web_pages alpha_two_code  \\\n",
       "0  [https://www.cstj.qc.ca, https://ccmt.cstj.qc....             CA   \n",
       "1                    [https://www.lambtoncollege.ca]             CA   \n",
       "2                           [http://www.acadiau.ca/]             CA   \n",
       "3                 [http://www.algonquincollege.com/]             CA   \n",
       "4                    [http://www.ashtoncollege.com/]             CA   \n",
       "\n",
       "     state_province                   name                            domains  \\\n",
       "0            Quebec  Cégep de Saint-Jérôme                       [cstj.qc.ca]   \n",
       "1           Ontario        Lambton College  [lambtoncollege.ca, mylambton.ca]   \n",
       "2       Nova Scotia      Acadia University                       [acadiau.ca]   \n",
       "3           Ontario      Algonquin College             [algonquincollege.com]   \n",
       "4  British Columbia         Ashton College                [ashtoncollege.com]   \n",
       "\n",
       "  country  \n",
       "0  Canada  \n",
       "1  Canada  \n",
       "2  Canada  \n",
       "3  Canada  \n",
       "4  Canada  "
      ]
     },
     "execution_count": 111,
     "metadata": {},
     "output_type": "execute_result"
    }
   ],
   "source": [
    "df.head()"
   ]
  },
  {
   "cell_type": "markdown",
   "metadata": {},
   "source": [
    "- La columna de domains nos da una información similar a la de web_pages. Eliminad la columna domains."
   ]
  },
  {
   "cell_type": "code",
   "execution_count": 112,
   "metadata": {},
   "outputs": [],
   "source": [
    "df.drop('domains',axis=1,inplace=True)"
   ]
  },
  {
   "cell_type": "code",
   "execution_count": 113,
   "metadata": {},
   "outputs": [
    {
     "data": {
      "text/html": [
       "<div>\n",
       "<style scoped>\n",
       "    .dataframe tbody tr th:only-of-type {\n",
       "        vertical-align: middle;\n",
       "    }\n",
       "\n",
       "    .dataframe tbody tr th {\n",
       "        vertical-align: top;\n",
       "    }\n",
       "\n",
       "    .dataframe thead th {\n",
       "        text-align: right;\n",
       "    }\n",
       "</style>\n",
       "<table border=\"1\" class=\"dataframe\">\n",
       "  <thead>\n",
       "    <tr style=\"text-align: right;\">\n",
       "      <th></th>\n",
       "      <th>web_pages</th>\n",
       "      <th>alpha_two_code</th>\n",
       "      <th>state_province</th>\n",
       "      <th>name</th>\n",
       "      <th>country</th>\n",
       "    </tr>\n",
       "  </thead>\n",
       "  <tbody>\n",
       "    <tr>\n",
       "      <th>0</th>\n",
       "      <td>[https://www.cstj.qc.ca, https://ccmt.cstj.qc....</td>\n",
       "      <td>CA</td>\n",
       "      <td>Quebec</td>\n",
       "      <td>Cégep de Saint-Jérôme</td>\n",
       "      <td>Canada</td>\n",
       "    </tr>\n",
       "    <tr>\n",
       "      <th>1</th>\n",
       "      <td>[https://www.lambtoncollege.ca]</td>\n",
       "      <td>CA</td>\n",
       "      <td>Ontario</td>\n",
       "      <td>Lambton College</td>\n",
       "      <td>Canada</td>\n",
       "    </tr>\n",
       "    <tr>\n",
       "      <th>2</th>\n",
       "      <td>[http://www.acadiau.ca/]</td>\n",
       "      <td>CA</td>\n",
       "      <td>Nova Scotia</td>\n",
       "      <td>Acadia University</td>\n",
       "      <td>Canada</td>\n",
       "    </tr>\n",
       "    <tr>\n",
       "      <th>3</th>\n",
       "      <td>[http://www.algonquincollege.com/]</td>\n",
       "      <td>CA</td>\n",
       "      <td>Ontario</td>\n",
       "      <td>Algonquin College</td>\n",
       "      <td>Canada</td>\n",
       "    </tr>\n",
       "    <tr>\n",
       "      <th>4</th>\n",
       "      <td>[http://www.ashtoncollege.com/]</td>\n",
       "      <td>CA</td>\n",
       "      <td>British Columbia</td>\n",
       "      <td>Ashton College</td>\n",
       "      <td>Canada</td>\n",
       "    </tr>\n",
       "  </tbody>\n",
       "</table>\n",
       "</div>"
      ],
      "text/plain": [
       "                                           web_pages alpha_two_code  \\\n",
       "0  [https://www.cstj.qc.ca, https://ccmt.cstj.qc....             CA   \n",
       "1                    [https://www.lambtoncollege.ca]             CA   \n",
       "2                           [http://www.acadiau.ca/]             CA   \n",
       "3                 [http://www.algonquincollege.com/]             CA   \n",
       "4                    [http://www.ashtoncollege.com/]             CA   \n",
       "\n",
       "     state_province                   name country  \n",
       "0            Quebec  Cégep de Saint-Jérôme  Canada  \n",
       "1           Ontario        Lambton College  Canada  \n",
       "2       Nova Scotia      Acadia University  Canada  \n",
       "3           Ontario      Algonquin College  Canada  \n",
       "4  British Columbia         Ashton College  Canada  "
      ]
     },
     "execution_count": 113,
     "metadata": {},
     "output_type": "execute_result"
    }
   ],
   "source": [
    "df.head()"
   ]
  },
  {
   "cell_type": "markdown",
   "metadata": {},
   "source": [
    "3. Si exploramos la columna de web_pages, nos daremos cuenta que hay universidades, como por ejemplo la Universidad de \"Cégep de Saint-Jérôme\" de Canadá que en su columna de web_pages tiene más de un valor dentro de la lista. Esto es poco práctico y puede llegar a no tener sentido. el objetivo de este ejericio es que usando el método explode de pandas separéis cada elemento de la lista en una fila nueva."
   ]
  },
  {
   "cell_type": "code",
   "execution_count": 114,
   "metadata": {},
   "outputs": [
    {
     "data": {
      "text/plain": [
       "(5008, 5)"
      ]
     },
     "execution_count": 114,
     "metadata": {},
     "output_type": "execute_result"
    }
   ],
   "source": [
    "df.shape"
   ]
  },
  {
   "cell_type": "code",
   "execution_count": 115,
   "metadata": {},
   "outputs": [],
   "source": [
    "df = df.explode('web_pages')"
   ]
  },
  {
   "cell_type": "code",
   "execution_count": 116,
   "metadata": {},
   "outputs": [
    {
     "data": {
      "text/html": [
       "<div>\n",
       "<style scoped>\n",
       "    .dataframe tbody tr th:only-of-type {\n",
       "        vertical-align: middle;\n",
       "    }\n",
       "\n",
       "    .dataframe tbody tr th {\n",
       "        vertical-align: top;\n",
       "    }\n",
       "\n",
       "    .dataframe thead th {\n",
       "        text-align: right;\n",
       "    }\n",
       "</style>\n",
       "<table border=\"1\" class=\"dataframe\">\n",
       "  <thead>\n",
       "    <tr style=\"text-align: right;\">\n",
       "      <th></th>\n",
       "      <th>web_pages</th>\n",
       "      <th>alpha_two_code</th>\n",
       "      <th>state_province</th>\n",
       "      <th>name</th>\n",
       "      <th>country</th>\n",
       "    </tr>\n",
       "  </thead>\n",
       "  <tbody>\n",
       "    <tr>\n",
       "      <th>0</th>\n",
       "      <td>https://www.cstj.qc.ca</td>\n",
       "      <td>CA</td>\n",
       "      <td>Quebec</td>\n",
       "      <td>Cégep de Saint-Jérôme</td>\n",
       "      <td>Canada</td>\n",
       "    </tr>\n",
       "    <tr>\n",
       "      <th>0</th>\n",
       "      <td>https://ccmt.cstj.qc.ca</td>\n",
       "      <td>CA</td>\n",
       "      <td>Quebec</td>\n",
       "      <td>Cégep de Saint-Jérôme</td>\n",
       "      <td>Canada</td>\n",
       "    </tr>\n",
       "    <tr>\n",
       "      <th>0</th>\n",
       "      <td>https://ccml.cstj.qc.ca</td>\n",
       "      <td>CA</td>\n",
       "      <td>Quebec</td>\n",
       "      <td>Cégep de Saint-Jérôme</td>\n",
       "      <td>Canada</td>\n",
       "    </tr>\n",
       "    <tr>\n",
       "      <th>1</th>\n",
       "      <td>https://www.lambtoncollege.ca</td>\n",
       "      <td>CA</td>\n",
       "      <td>Ontario</td>\n",
       "      <td>Lambton College</td>\n",
       "      <td>Canada</td>\n",
       "    </tr>\n",
       "    <tr>\n",
       "      <th>2</th>\n",
       "      <td>http://www.acadiau.ca/</td>\n",
       "      <td>CA</td>\n",
       "      <td>Nova Scotia</td>\n",
       "      <td>Acadia University</td>\n",
       "      <td>Canada</td>\n",
       "    </tr>\n",
       "  </tbody>\n",
       "</table>\n",
       "</div>"
      ],
      "text/plain": [
       "                       web_pages alpha_two_code state_province  \\\n",
       "0         https://www.cstj.qc.ca             CA         Quebec   \n",
       "0        https://ccmt.cstj.qc.ca             CA         Quebec   \n",
       "0        https://ccml.cstj.qc.ca             CA         Quebec   \n",
       "1  https://www.lambtoncollege.ca             CA        Ontario   \n",
       "2         http://www.acadiau.ca/             CA    Nova Scotia   \n",
       "\n",
       "                    name country  \n",
       "0  Cégep de Saint-Jérôme  Canada  \n",
       "0  Cégep de Saint-Jérôme  Canada  \n",
       "0  Cégep de Saint-Jérôme  Canada  \n",
       "1        Lambton College  Canada  \n",
       "2      Acadia University  Canada  "
      ]
     },
     "execution_count": 116,
     "metadata": {},
     "output_type": "execute_result"
    }
   ],
   "source": [
    "df.head()"
   ]
  },
  {
   "cell_type": "code",
   "execution_count": 117,
   "metadata": {},
   "outputs": [
    {
     "data": {
      "text/plain": [
       "(5034, 5)"
      ]
     },
     "execution_count": 117,
     "metadata": {},
     "output_type": "execute_result"
    }
   ],
   "source": [
    "df.shape"
   ]
  },
  {
   "cell_type": "markdown",
   "metadata": {},
   "source": [
    "4. Una vez hayáis realizado el explode, chequead si tenéis duplicados basándonos unicamente en el nombre de la universidad, en caso de que si, eliminandlos."
   ]
  },
  {
   "cell_type": "code",
   "execution_count": 118,
   "metadata": {},
   "outputs": [
    {
     "data": {
      "text/plain": [
       "2543"
      ]
     },
     "execution_count": 118,
     "metadata": {},
     "output_type": "execute_result"
    }
   ],
   "source": [
    "df.duplicated(subset='name').sum()"
   ]
  },
  {
   "cell_type": "code",
   "execution_count": 119,
   "metadata": {},
   "outputs": [],
   "source": [
    "df.drop_duplicates(subset='name',inplace=True)"
   ]
  },
  {
   "cell_type": "code",
   "execution_count": 120,
   "metadata": {},
   "outputs": [
    {
     "data": {
      "text/plain": [
       "0"
      ]
     },
     "execution_count": 120,
     "metadata": {},
     "output_type": "execute_result"
    }
   ],
   "source": [
    "df.duplicated(subset='name').sum()"
   ]
  },
  {
   "cell_type": "markdown",
   "metadata": {},
   "source": [
    "5. Si exploramos la columna de state_province veremos que hay universidades cuyo valor para esta columna es None. Cread una función para reemplazar los None por nulos de numpy."
   ]
  },
  {
   "cell_type": "code",
   "execution_count": 121,
   "metadata": {},
   "outputs": [
    {
     "data": {
      "text/plain": [
       "array(['Quebec', 'Ontario', 'Nova Scotia', 'British Columbia', 'Alberta',\n",
       "       'Manitoba', 'New Brunswick', 'Saskatchewan', None,\n",
       "       'Newfoundland and Labrador', 'Prince Edward Island', 'Yukon',\n",
       "       'Buenos Aires', 'Ciudad Autónoma de Buenos Aires', 'Entre Ríos',\n",
       "       'Salta', 'Córdoba', 'Mendoza', 'Santa Fé', 'Santiago Del Estero',\n",
       "       'Misiones', 'Catamarca', 'Formosa', 'Jujuy', 'La Rioja',\n",
       "       'La Pampa', 'San Juan', 'San Luis', 'Tucumán', 'Pennsylvania',\n",
       "       'Texas', 'Utah', 'NV', 'Iowa', 'VA', 'TX', 'Indiana', 'Colorado',\n",
       "       'Ohio', 'IN', 'New York', 'CA', 'Illinois', 'New Hampshire',\n",
       "       'North Carolina', 'South Carolina', 'Virginia', 'Washington',\n",
       "       'Missouri', 'California', 'NY', 'ND', 'MI', 'Florida', 'Michigan',\n",
       "       'GA', 'New York, NY', 'Maine'], dtype=object)"
      ]
     },
     "execution_count": 121,
     "metadata": {},
     "output_type": "execute_result"
    }
   ],
   "source": [
    "df['state_province'].unique()"
   ]
  },
  {
   "cell_type": "code",
   "execution_count": 122,
   "metadata": {},
   "outputs": [],
   "source": [
    "def cambiar_nulos(dataframe,columna):\n",
    "    \"\"\"\n",
    "    Esta función cambia los nulos de pandas por nulos de numpy.\n",
    "\n",
    "    Args:\n",
    "        dataframe (dataframe): el dataframe que contiene los nulos de pandas\n",
    "        columna (str): la columna la cual queremos modificar.\n",
    "    return: aunque esta función no devuelve nada, cambia el tipo de nulo de una columna especifica.\"\"\"\n",
    "    dataframe[columna].replace({None},np.nan,inplace=True)"
   ]
  },
  {
   "cell_type": "code",
   "execution_count": 123,
   "metadata": {},
   "outputs": [],
   "source": [
    "cambiar_nulos(df,\"state_province\")"
   ]
  },
  {
   "cell_type": "code",
   "execution_count": 124,
   "metadata": {},
   "outputs": [
    {
     "data": {
      "text/plain": [
       "array(['Quebec', 'Ontario', 'Nova Scotia', 'British Columbia', 'Alberta',\n",
       "       'Manitoba', 'New Brunswick', 'Saskatchewan', nan,\n",
       "       'Newfoundland and Labrador', 'Prince Edward Island', 'Yukon',\n",
       "       'Buenos Aires', 'Ciudad Autónoma de Buenos Aires', 'Entre Ríos',\n",
       "       'Salta', 'Córdoba', 'Mendoza', 'Santa Fé', 'Santiago Del Estero',\n",
       "       'Misiones', 'Catamarca', 'Formosa', 'Jujuy', 'La Rioja',\n",
       "       'La Pampa', 'San Juan', 'San Luis', 'Tucumán', 'Pennsylvania',\n",
       "       'Texas', 'Utah', 'NV', 'Iowa', 'VA', 'TX', 'Indiana', 'Colorado',\n",
       "       'Ohio', 'IN', 'New York', 'CA', 'Illinois', 'New Hampshire',\n",
       "       'North Carolina', 'South Carolina', 'Virginia', 'Washington',\n",
       "       'Missouri', 'California', 'NY', 'ND', 'MI', 'Florida', 'Michigan',\n",
       "       'GA', 'New York, NY', 'Maine'], dtype=object)"
      ]
     },
     "execution_count": 124,
     "metadata": {},
     "output_type": "execute_result"
    }
   ],
   "source": [
    "df['state_province'].unique()"
   ]
  },
  {
   "cell_type": "markdown",
   "metadata": {},
   "source": [
    "6. Después del último cambio, os habréis dado cuenta que tenemos muchos valores nulos dentro de la columna de state_province, por lo que nuestro jefe nos pide que reemplacemos esos nulos por \"Unknow\". No nos piden ningún método especifico, asi que podremos usar el método que queramos."
   ]
  },
  {
   "cell_type": "code",
   "execution_count": 125,
   "metadata": {},
   "outputs": [
    {
     "data": {
      "text/plain": [
       "2201"
      ]
     },
     "execution_count": 125,
     "metadata": {},
     "output_type": "execute_result"
    }
   ],
   "source": [
    "df['state_province'].isnull().sum()"
   ]
  },
  {
   "cell_type": "code",
   "execution_count": 126,
   "metadata": {},
   "outputs": [],
   "source": [
    "df[\"state_province\"].replace(np.nan,'Unknown',inplace=True)"
   ]
  },
  {
   "cell_type": "code",
   "execution_count": 127,
   "metadata": {},
   "outputs": [
    {
     "data": {
      "text/plain": [
       "0"
      ]
     },
     "execution_count": 127,
     "metadata": {},
     "output_type": "execute_result"
    }
   ],
   "source": [
    "df['state_province'].isnull().sum()"
   ]
  },
  {
   "cell_type": "markdown",
   "metadata": {},
   "source": [
    "7. Ahora nuestros jefes nos piden que saquemos las coordenadas de las provincias donde están ubicadas las universidades. Para eso nos piden que usemos la librería de geopy que aprendimos el día del repaso, aquí la documentación. Para desarrollar este ejercicio deberéis:"
   ]
  },
  {
   "cell_type": "markdown",
   "metadata": {},
   "source": [
    "- Sacar los valores únicos de la columna state_province."
   ]
  },
  {
   "cell_type": "code",
   "execution_count": 128,
   "metadata": {},
   "outputs": [
    {
     "data": {
      "text/plain": [
       "array(['Quebec', 'Ontario', 'Nova Scotia', 'British Columbia', 'Alberta',\n",
       "       'Manitoba', 'New Brunswick', 'Saskatchewan', 'Unknown',\n",
       "       'Newfoundland and Labrador', 'Prince Edward Island', 'Yukon',\n",
       "       'Buenos Aires', 'Ciudad Autónoma de Buenos Aires', 'Entre Ríos',\n",
       "       'Salta', 'Córdoba', 'Mendoza', 'Santa Fé', 'Santiago Del Estero',\n",
       "       'Misiones', 'Catamarca', 'Formosa', 'Jujuy', 'La Rioja',\n",
       "       'La Pampa', 'San Juan', 'San Luis', 'Tucumán', 'Pennsylvania',\n",
       "       'Texas', 'Utah', 'NV', 'Iowa', 'VA', 'TX', 'Indiana', 'Colorado',\n",
       "       'Ohio', 'IN', 'New York', 'CA', 'Illinois', 'New Hampshire',\n",
       "       'North Carolina', 'South Carolina', 'Virginia', 'Washington',\n",
       "       'Missouri', 'California', 'NY', 'ND', 'MI', 'Florida', 'Michigan',\n",
       "       'GA', 'New York, NY', 'Maine'], dtype=object)"
      ]
     },
     "execution_count": 128,
     "metadata": {},
     "output_type": "execute_result"
    }
   ],
   "source": [
    "df['state_province'].unique()"
   ]
  },
  {
   "cell_type": "markdown",
   "metadata": {},
   "source": [
    "- Algunos de los valores que tenemos están con siglas, y deberéis reemplazarlos por lo siguiente:"
   ]
  },
  {
   "cell_type": "code",
   "execution_count": 129,
   "metadata": {},
   "outputs": [],
   "source": [
    "cambios = {'NV':'Nevada','VA':'Virginia', 'TX':'Texas','IN':'Indianapolis','CA':'California','NY':'New York', 'ND':'North Dakota', 'MI':'Michigan',\n",
    "       'GA':'Georgia', 'New York, NY':'New York','Ciudad Autónoma de Buenos Aires':'Buenos Aires'}"
   ]
  },
  {
   "cell_type": "code",
   "execution_count": 130,
   "metadata": {},
   "outputs": [],
   "source": [
    "df['state_province'].replace(cambios,inplace=True)"
   ]
  },
  {
   "cell_type": "code",
   "execution_count": 131,
   "metadata": {},
   "outputs": [
    {
     "data": {
      "text/plain": [
       "array(['Quebec', 'Ontario', 'Nova Scotia', 'British Columbia', 'Alberta',\n",
       "       'Manitoba', 'New Brunswick', 'Saskatchewan', 'Unknown',\n",
       "       'Newfoundland and Labrador', 'Prince Edward Island', 'Yukon',\n",
       "       'Buenos Aires', 'Entre Ríos', 'Salta', 'Córdoba', 'Mendoza',\n",
       "       'Santa Fé', 'Santiago Del Estero', 'Misiones', 'Catamarca',\n",
       "       'Formosa', 'Jujuy', 'La Rioja', 'La Pampa', 'San Juan', 'San Luis',\n",
       "       'Tucumán', 'Pennsylvania', 'Texas', 'Utah', 'Nevada', 'Iowa',\n",
       "       'Virginia', 'Indiana', 'Colorado', 'Ohio', 'Indianapolis',\n",
       "       'New York', 'California', 'Illinois', 'New Hampshire',\n",
       "       'North Carolina', 'South Carolina', 'Washington', 'Missouri',\n",
       "       'North Dakota', 'Michigan', 'Florida', 'Georgia', 'Maine'],\n",
       "      dtype=object)"
      ]
     },
     "execution_count": 131,
     "metadata": {},
     "output_type": "execute_result"
    }
   ],
   "source": [
    "df['state_province'].unique()"
   ]
  },
  {
   "cell_type": "code",
   "execution_count": 132,
   "metadata": {},
   "outputs": [],
   "source": [
    "# Esta limpiza se realiza para poder hacer la inserción de datos en MySQL ya que ' es un carácter especial.\n",
    "df['name'] = df['name'].str.replace(\"'\", '')"
   ]
  },
  {
   "cell_type": "markdown",
   "metadata": {},
   "source": [
    "- Una vez realizados los pasos anteriores, crea una lista con los valores únicos de las provincias de las universidades."
   ]
  },
  {
   "cell_type": "code",
   "execution_count": 133,
   "metadata": {},
   "outputs": [],
   "source": [
    "provincias = list(df['state_province'].unique())"
   ]
  },
  {
   "cell_type": "markdown",
   "metadata": {},
   "source": [
    "- Usando la API de geopy, extraed la latitud y la longitud de cada una de las provincias y almacenad los resultados en un dataframe."
   ]
  },
  {
   "cell_type": "code",
   "execution_count": 134,
   "metadata": {},
   "outputs": [],
   "source": [
    "df_provincias = pd.DataFrame(provincias,columns=['state_province'])"
   ]
  },
  {
   "cell_type": "code",
   "execution_count": 135,
   "metadata": {},
   "outputs": [],
   "source": [
    "def localizacion(elemento):\n",
    "    \"\"\"Esta función extrae la latitud y la longitud de una población dada.\n",
    "\n",
    "        Args:\n",
    "            elemento (str): población de la cual queremos saber sus coordenadas.\n",
    "\n",
    "        Returns: devuelve la longitud y la latitud, o en el caso de que no haya población devuelve 0.0/0.0\n",
    "        \"\"\"\n",
    "    if elemento != 'Unknown':\n",
    "        geo = Nominatim(user_agent = 'Monica')\n",
    "        localizacion = geo.geocode(elemento)\n",
    "        return localizacion[1][0], localizacion[1][1]\n",
    "    else:\n",
    "        return 0.0, 0.0"
   ]
  },
  {
   "cell_type": "code",
   "execution_count": 136,
   "metadata": {},
   "outputs": [],
   "source": [
    "df_provincias[['latitude','longitude']] = df_provincias['state_province'].apply(localizacion).apply(pd.Series)"
   ]
  },
  {
   "cell_type": "markdown",
   "metadata": {},
   "source": [
    "Este ejercicio también se podría haber hecho con un diccionario."
   ]
  },
  {
   "cell_type": "code",
   "execution_count": 137,
   "metadata": {},
   "outputs": [
    {
     "data": {
      "text/html": [
       "<div>\n",
       "<style scoped>\n",
       "    .dataframe tbody tr th:only-of-type {\n",
       "        vertical-align: middle;\n",
       "    }\n",
       "\n",
       "    .dataframe tbody tr th {\n",
       "        vertical-align: top;\n",
       "    }\n",
       "\n",
       "    .dataframe thead th {\n",
       "        text-align: right;\n",
       "    }\n",
       "</style>\n",
       "<table border=\"1\" class=\"dataframe\">\n",
       "  <thead>\n",
       "    <tr style=\"text-align: right;\">\n",
       "      <th></th>\n",
       "      <th>state_province</th>\n",
       "      <th>latitude</th>\n",
       "      <th>longitude</th>\n",
       "    </tr>\n",
       "  </thead>\n",
       "  <tbody>\n",
       "    <tr>\n",
       "      <th>0</th>\n",
       "      <td>Quebec</td>\n",
       "      <td>52.476089</td>\n",
       "      <td>-71.825867</td>\n",
       "    </tr>\n",
       "    <tr>\n",
       "      <th>1</th>\n",
       "      <td>Ontario</td>\n",
       "      <td>50.000678</td>\n",
       "      <td>-86.000977</td>\n",
       "    </tr>\n",
       "    <tr>\n",
       "      <th>2</th>\n",
       "      <td>Nova Scotia</td>\n",
       "      <td>45.196040</td>\n",
       "      <td>-63.165379</td>\n",
       "    </tr>\n",
       "    <tr>\n",
       "      <th>3</th>\n",
       "      <td>British Columbia</td>\n",
       "      <td>55.001251</td>\n",
       "      <td>-125.002441</td>\n",
       "    </tr>\n",
       "    <tr>\n",
       "      <th>4</th>\n",
       "      <td>Alberta</td>\n",
       "      <td>55.001251</td>\n",
       "      <td>-115.002136</td>\n",
       "    </tr>\n",
       "  </tbody>\n",
       "</table>\n",
       "</div>"
      ],
      "text/plain": [
       "     state_province   latitude   longitude\n",
       "0            Quebec  52.476089  -71.825867\n",
       "1           Ontario  50.000678  -86.000977\n",
       "2       Nova Scotia  45.196040  -63.165379\n",
       "3  British Columbia  55.001251 -125.002441\n",
       "4           Alberta  55.001251 -115.002136"
      ]
     },
     "execution_count": 137,
     "metadata": {},
     "output_type": "execute_result"
    }
   ],
   "source": [
    "df_provincias.head()"
   ]
  },
  {
   "cell_type": "markdown",
   "metadata": {},
   "source": [
    "- Una vez que tengáis los datos del ejercicio anterior en un dataframe, unidlo con el de las universidades que hemos sacado de la API."
   ]
  },
  {
   "cell_type": "code",
   "execution_count": 138,
   "metadata": {},
   "outputs": [],
   "source": [
    "df_unido = df.merge(df_provincias,how='left',on = 'state_province')"
   ]
  },
  {
   "cell_type": "code",
   "execution_count": 139,
   "metadata": {},
   "outputs": [
    {
     "data": {
      "text/plain": [
       "(2491, 5)"
      ]
     },
     "execution_count": 139,
     "metadata": {},
     "output_type": "execute_result"
    }
   ],
   "source": [
    "df.shape"
   ]
  },
  {
   "cell_type": "code",
   "execution_count": 140,
   "metadata": {},
   "outputs": [
    {
     "data": {
      "text/plain": [
       "(51, 3)"
      ]
     },
     "execution_count": 140,
     "metadata": {},
     "output_type": "execute_result"
    }
   ],
   "source": [
    "df_provincias.shape"
   ]
  },
  {
   "cell_type": "code",
   "execution_count": 141,
   "metadata": {},
   "outputs": [
    {
     "data": {
      "text/plain": [
       "(2491, 7)"
      ]
     },
     "execution_count": 141,
     "metadata": {},
     "output_type": "execute_result"
    }
   ],
   "source": [
    "df_unido.shape"
   ]
  },
  {
   "cell_type": "code",
   "execution_count": 142,
   "metadata": {},
   "outputs": [
    {
     "data": {
      "text/plain": [
       "web_pages         0\n",
       "alpha_two_code    0\n",
       "state_province    0\n",
       "name              0\n",
       "country           0\n",
       "latitude          0\n",
       "longitude         0\n",
       "dtype: int64"
      ]
     },
     "execution_count": 142,
     "metadata": {},
     "output_type": "execute_result"
    }
   ],
   "source": [
    "df_unido.isnull().sum()"
   ]
  },
  {
   "cell_type": "code",
   "execution_count": 143,
   "metadata": {},
   "outputs": [
    {
     "data": {
      "text/html": [
       "<div>\n",
       "<style scoped>\n",
       "    .dataframe tbody tr th:only-of-type {\n",
       "        vertical-align: middle;\n",
       "    }\n",
       "\n",
       "    .dataframe tbody tr th {\n",
       "        vertical-align: top;\n",
       "    }\n",
       "\n",
       "    .dataframe thead th {\n",
       "        text-align: right;\n",
       "    }\n",
       "</style>\n",
       "<table border=\"1\" class=\"dataframe\">\n",
       "  <thead>\n",
       "    <tr style=\"text-align: right;\">\n",
       "      <th></th>\n",
       "      <th>web_pages</th>\n",
       "      <th>alpha_two_code</th>\n",
       "      <th>state_province</th>\n",
       "      <th>name</th>\n",
       "      <th>country</th>\n",
       "      <th>latitude</th>\n",
       "      <th>longitude</th>\n",
       "    </tr>\n",
       "  </thead>\n",
       "  <tbody>\n",
       "    <tr>\n",
       "      <th>0</th>\n",
       "      <td>https://www.cstj.qc.ca</td>\n",
       "      <td>CA</td>\n",
       "      <td>Quebec</td>\n",
       "      <td>Cégep de Saint-Jérôme</td>\n",
       "      <td>Canada</td>\n",
       "      <td>52.476089</td>\n",
       "      <td>-71.825867</td>\n",
       "    </tr>\n",
       "    <tr>\n",
       "      <th>1</th>\n",
       "      <td>https://www.lambtoncollege.ca</td>\n",
       "      <td>CA</td>\n",
       "      <td>Ontario</td>\n",
       "      <td>Lambton College</td>\n",
       "      <td>Canada</td>\n",
       "      <td>50.000678</td>\n",
       "      <td>-86.000977</td>\n",
       "    </tr>\n",
       "    <tr>\n",
       "      <th>2</th>\n",
       "      <td>http://www.acadiau.ca/</td>\n",
       "      <td>CA</td>\n",
       "      <td>Nova Scotia</td>\n",
       "      <td>Acadia University</td>\n",
       "      <td>Canada</td>\n",
       "      <td>45.196040</td>\n",
       "      <td>-63.165379</td>\n",
       "    </tr>\n",
       "    <tr>\n",
       "      <th>3</th>\n",
       "      <td>http://www.algonquincollege.com/</td>\n",
       "      <td>CA</td>\n",
       "      <td>Ontario</td>\n",
       "      <td>Algonquin College</td>\n",
       "      <td>Canada</td>\n",
       "      <td>50.000678</td>\n",
       "      <td>-86.000977</td>\n",
       "    </tr>\n",
       "    <tr>\n",
       "      <th>4</th>\n",
       "      <td>http://www.ashtoncollege.com/</td>\n",
       "      <td>CA</td>\n",
       "      <td>British Columbia</td>\n",
       "      <td>Ashton College</td>\n",
       "      <td>Canada</td>\n",
       "      <td>55.001251</td>\n",
       "      <td>-125.002441</td>\n",
       "    </tr>\n",
       "  </tbody>\n",
       "</table>\n",
       "</div>"
      ],
      "text/plain": [
       "                          web_pages alpha_two_code    state_province  \\\n",
       "0            https://www.cstj.qc.ca             CA            Quebec   \n",
       "1     https://www.lambtoncollege.ca             CA           Ontario   \n",
       "2            http://www.acadiau.ca/             CA       Nova Scotia   \n",
       "3  http://www.algonquincollege.com/             CA           Ontario   \n",
       "4     http://www.ashtoncollege.com/             CA  British Columbia   \n",
       "\n",
       "                    name country   latitude   longitude  \n",
       "0  Cégep de Saint-Jérôme  Canada  52.476089  -71.825867  \n",
       "1        Lambton College  Canada  50.000678  -86.000977  \n",
       "2      Acadia University  Canada  45.196040  -63.165379  \n",
       "3      Algonquin College  Canada  50.000678  -86.000977  \n",
       "4         Ashton College  Canada  55.001251 -125.002441  "
      ]
     },
     "execution_count": 143,
     "metadata": {},
     "output_type": "execute_result"
    }
   ],
   "source": [
    "df_unido.head()"
   ]
  },
  {
   "cell_type": "markdown",
   "metadata": {},
   "source": [
    "8. Crea una BBDD en mysql que contenga las siguientes tablas:"
   ]
  },
  {
   "cell_type": "code",
   "execution_count": 144,
   "metadata": {},
   "outputs": [],
   "source": [
    "def crear_bbdd(nombre_bbdd):\n",
    "  ''' \n",
    "Esta función crea una base de datos con el nombre especificado.\n",
    "Args:\n",
    "    nombre_bbdd(str): nombre de la base de datos.\n",
    "return: aunque no tiene return, crea una base de datos en MySQL.\n",
    "  '''\n",
    "  mydb = mysql.connector.connect(\n",
    "    host=\"localhost\",\n",
    "    user=\"root\",\n",
    "    password=\"AlumnaAdalab\")\n",
    "  print(\"Conexión realizada con éxito\")\n",
    "    \n",
    "  mycursor = mydb.cursor()\n",
    "\n",
    "  try:\n",
    "    mycursor.execute(f\"CREATE DATABASE IF NOT EXISTS {nombre_bbdd};\")\n",
    "    print(mycursor)\n",
    "  except mysql.connector.Error as err:\n",
    "      print(err)\n",
    "      print(\"Error Code:\", err.errno)\n",
    "      print(\"SQLSTATE\", err.sqlstate)\n",
    "      print(\"Message\", err.msg)"
   ]
  },
  {
   "cell_type": "code",
   "execution_count": 145,
   "metadata": {},
   "outputs": [
    {
     "name": "stdout",
     "output_type": "stream",
     "text": [
      "Conexión realizada con éxito\n",
      "MySQLCursor: CREATE DATABASE IF NOT EXISTS evaluacion..\n"
     ]
    }
   ],
   "source": [
    "crear_bbdd('evaluacion')"
   ]
  },
  {
   "cell_type": "code",
   "execution_count": 146,
   "metadata": {},
   "outputs": [],
   "source": [
    "def crear_insertar_tabla(nombre_bbdd, contraseña, query):\n",
    "    ''' \n",
    "Esta función ejecuta una query dada en MySQL.\n",
    "Args:\n",
    "    nombre_bbdd(str): nombre de la base de datos.\n",
    "    contraseña(str): nombre de la contraseña de MySQL.\n",
    "    query(str): query que queremos ejecutar.\n",
    "return: aunque no tiene return, ejecuta la query en MySQL, independiemente de que sea creación o insercción de tablas.\n",
    "    '''\n",
    "    cnx = mysql.connector.connect(user='root', password=f\"{contraseña}\",\n",
    "                                     host='127.0.0.1', database=f\"{nombre_bbdd}\")\n",
    "                                    \n",
    "\n",
    "    mycursor = cnx.cursor()\n",
    "    \n",
    "  \n",
    "    try: \n",
    "        mycursor.execute(query)\n",
    "        cnx.commit() \n",
    "   \n",
    "    except mysql.connector.Error as err:\n",
    "        print(err)\n",
    "        print(\"Error Code:\", err.errno)\n",
    "        print(\"SQLSTATE\", err.sqlstate)\n",
    "        print(\"Message\", err.msg)"
   ]
  },
  {
   "cell_type": "markdown",
   "metadata": {},
   "source": [
    "Aunque la creación de la base de datos y de las tablas se puede hacer utilizando el apartado models en MySQL, utilizamos funciones para demostrar las dos maneras (mirar archivo creacion_bbdd_tablas_modelo), aun así utilizaremos las querys proporcionadas para crearlas aquí."
   ]
  },
  {
   "cell_type": "code",
   "execution_count": 147,
   "metadata": {},
   "outputs": [],
   "source": [
    "query_paises = \"\"\"\n",
    "CREATE TABLE IF NOT EXISTS `paises` (\n",
    "  `idestado` INT NOT NULL AUTO_INCREMENT,\n",
    "  `nombre_pais` VARCHAR(45) NOT NULL,\n",
    "  `nombre_provincia` VARCHAR(45) NOT NULL,\n",
    "  `latitud` DECIMAL NOT NULL,\n",
    "  `longitud` DECIMAL NOT NULL,\n",
    "  PRIMARY KEY (`idestado`));\"\"\"\n",
    "\n",
    "query_universidades = \"\"\"\n",
    "CREATE TABLE IF NOT EXISTS `universidades` (\n",
    "  `iduniversidades` INT NOT NULL AUTO_INCREMENT,\n",
    "  `nombre_universidad` VARCHAR(100) NOT NULL,\n",
    "  `pagina_web` VARCHAR(100) NOT NULL,\n",
    "  `paises_idestado` INT NOT NULL,\n",
    "  PRIMARY KEY (`iduniversidades`),\n",
    "  CONSTRAINT `fk_universidades_paises`\n",
    "    FOREIGN KEY (`paises_idestado`)\n",
    "    REFERENCES `paises` (`idestado`));\"\"\""
   ]
  },
  {
   "cell_type": "code",
   "execution_count": 148,
   "metadata": {},
   "outputs": [],
   "source": [
    "crear_insertar_tabla('evaluacion','AlumnaAdalab',query_paises)\n",
    "crear_insertar_tabla('evaluacion','AlumnaAdalab',query_universidades)"
   ]
  },
  {
   "cell_type": "markdown",
   "metadata": {},
   "source": [
    "9. Introduce todo el código que habéis ido creando en funciones, siguiendo la misma lógica que hemos seguido en los pairs."
   ]
  },
  {
   "cell_type": "markdown",
   "metadata": {},
   "source": [
    "Hay una función que se ha utilizado durante el proceso de limpieza, que es:"
   ]
  },
  {
   "cell_type": "code",
   "execution_count": 149,
   "metadata": {},
   "outputs": [],
   "source": [
    "def localizacion(elemento):\n",
    "    \"\"\"Esta función extrae la latitud y la longitud de una población dada.\n",
    "\n",
    "        Args:\n",
    "            elemento (str): población de la cual queremos saber sus coordenadas.\n",
    "\n",
    "        Returns: devuelve la longitud y la latitud, o en el caso de que no haya población devuelve 0.0/0.0\n",
    "        \"\"\"\n",
    "    if elemento != 'Unknown':\n",
    "        geo = Nominatim(user_agent = 'Monica')\n",
    "        localizacion = geo.geocode(elemento)\n",
    "        return localizacion[1][0], localizacion[1][1]\n",
    "    else:\n",
    "        return 0.0, 0.0"
   ]
  },
  {
   "cell_type": "markdown",
   "metadata": {},
   "source": [
    "El resto de proceso de limpieza se ha juntado en una sola función, que necesita de la anterior para así unificar todo el proceso en una sola función:"
   ]
  },
  {
   "cell_type": "code",
   "execution_count": 150,
   "metadata": {},
   "outputs": [],
   "source": [
    "def limpieza(dataframe):\n",
    "    \"\"\"Esta función incluye todo el proceso de limpiza del dataframe.\n",
    "    Args:\n",
    "        dataframe(dataframe): el dataframe el cual queremos limpiar.\n",
    "    return: esta función devuelve el dataframe limpio.\n",
    "    \"\"\"\n",
    "    nuevas_columna = {col: col.replace(\"-\", \"_\") for col in dataframe.columns}\n",
    "    dataframe.rename(columns= nuevas_columna, inplace = True)\n",
    "\n",
    "    dataframe.drop('domains',axis=1,inplace=True)\n",
    "\n",
    "    df_explode = dataframe.explode('web_pages')\n",
    "    dataframe = df_explode\n",
    "\n",
    "    duplicados = dataframe.duplicated(subset='name').sum()\n",
    "    if duplicados != 0:\n",
    "        dataframe.drop_duplicates(subset='name',inplace=True)\n",
    "\n",
    "    dataframe['state_province'].replace({None},np.nan,inplace=True)\n",
    "    dataframe['state_province'].replace(np.nan,'Unknown',inplace=True)\n",
    "\n",
    "    cambios = {'NV':'Nevada','VA':'Virginia', 'TX':'Texas','IN':'Indianapolis','CA':'California','NY':'New York', 'ND':'North Dakota', 'MI':'Michigan',\n",
    "    'GA':'Georgia', 'New York, NY':'New York','Ciudad Autónoma de Buenos Aires':'Buenos Aires'}\n",
    "    dataframe['state_province'].replace(cambios,inplace=True)\n",
    "\n",
    "    dataframe['name'] = dataframe['name'].str.replace(\"'\", '')\n",
    "\n",
    "    provincias = list(dataframe['state_province'].unique())\n",
    "    df_provincias = pd.DataFrame(provincias,columns=['state_province'])\n",
    "    df_provincias[['latitude','longitude']] = df_provincias['state_province'].apply(localizacion).apply(pd.Series)\n",
    "    df_unido = dataframe.merge(df_provincias,how='left',on = 'state_province')\n",
    "    return df_unido"
   ]
  },
  {
   "cell_type": "markdown",
   "metadata": {},
   "source": [
    "El apartado 9 y 10 (bonus) se han hecho solo a partir de funciones ya definidas en sus propios apartados."
   ]
  },
  {
   "cell_type": "markdown",
   "metadata": {},
   "source": [
    "10. BONUS\n",
    "- Introduce los datos en la BBDD de SQL."
   ]
  },
  {
   "cell_type": "code",
   "execution_count": 151,
   "metadata": {},
   "outputs": [],
   "source": [
    "def check_provincias(nombre_bbdd):\n",
    "    \"\"\" Esta función extrae todas las provincias que hay una tabla de MySQL.\n",
    "        Args:\n",
    "            nombre_bbdd(str): nombre de la base de datos donde se encuentra la tabla.\n",
    "        return: devuelve una lista de tuplas con todos los nombres de las provincias que hay en la tabla.\n",
    "        \"\"\"\n",
    "    cnx = mysql.connector.connect(user='root', password=f'AlumnaAdalab',\n",
    "                                  host='127.0.0.1', database=f\"{nombre_bbdd}\",  auth_plugin = 'mysql_native_password')\n",
    "    mycursor = cnx.cursor()\n",
    "\n",
    "\n",
    "    query_existe_provincia = f\"\"\"\n",
    "            SELECT DISTINCT nombre_provincia FROM paises\n",
    "            \"\"\"\n",
    "    mycursor.execute(query_existe_provincia)\n",
    "    provincia = mycursor.fetchall()\n",
    "    return provincia"
   ]
  },
  {
   "cell_type": "code",
   "execution_count": 152,
   "metadata": {},
   "outputs": [],
   "source": [
    "# Podriamos poner un else print(x), pero el output sería muy grande y no lo ponemos.\n",
    "for indice, fila in df_unido.iterrows():\n",
    "   \n",
    "    query_paises = f\"\"\"\n",
    "                INSERT INTO paises (nombre_pais, nombre_provincia, latitud, longitud) \n",
    "                VALUES (\"{fila['country']}\", \"{fila['state_province']}\",\"{fila['latitude']}\",\"{fila['longitude']}\");\n",
    "                \"\"\"\n",
    "    \n",
    "    provincias = check_provincias('evaluacion')\n",
    "    lista_provincias = [i[0] for i in provincias]\n",
    "    if len(provincias) == 0 or fila['state_province'] not in lista_provincias: \n",
    "        crear_insertar_tabla(\"evaluacion\",\"AlumnaAdalab\", query_paises)"
   ]
  },
  {
   "cell_type": "code",
   "execution_count": 153,
   "metadata": {},
   "outputs": [],
   "source": [
    "def sacar_id_estado(estado):\n",
    "    \"\"\"Esta función extrae el id de un estado dado.\n",
    "    Args:\n",
    "        estado (str): el estado del cual queremos saber su id.\n",
    "\n",
    "    Returns: devuelve el id del estado especificado.\n",
    "    \"\"\"\n",
    "    mydb = mysql.connector.connect(user='root', password='AlumnaAdalab',\n",
    "                                        host='127.0.0.1', database='evaluacion')\n",
    "    mycursor = mydb.cursor()\n",
    "\n",
    "    try:\n",
    "        query_sacar_id = f\"SELECT idestado FROM paises WHERE nombre_provincia = '{estado}'\"\n",
    "        mycursor.execute(query_sacar_id)\n",
    "        id_ = mycursor.fetchall()[0][0]\n",
    "        return id_\n",
    "    \n",
    "    except: \n",
    "            return \"Sorry, no tenemos ese estado en la BBDD y por lo tanto no te podemos dar su id.\""
   ]
  },
  {
   "cell_type": "code",
   "execution_count": 154,
   "metadata": {},
   "outputs": [],
   "source": [
    "def check_universidades(nombre_bbdd):\n",
    "    \"\"\" Esta función extrae todas las universidades que hay una tabla de MySQL.\n",
    "        Args:\n",
    "            nombre_bbdd(str): nombre de la base de datos donde se encuentra la tabla.\n",
    "        return: devuelve una lista de tuplas con todos los nombres de las universidades que hay en la tabla.\n",
    "        \"\"\"\n",
    "    cnx = mysql.connector.connect(user='root', password=f'AlumnaAdalab',\n",
    "                                  host='127.0.0.1', database=f\"{nombre_bbdd}\",  auth_plugin = 'mysql_native_password')\n",
    "    mycursor = cnx.cursor()\n",
    "\n",
    "\n",
    "    query_existe_uni = f\"\"\"\n",
    "            SELECT DISTINCT nombre_universidad FROM universidades\n",
    "            \"\"\"\n",
    "    mycursor.execute(query_existe_uni)\n",
    "    unis = mycursor.fetchall()\n",
    "    return unis"
   ]
  },
  {
   "cell_type": "code",
   "execution_count": 155,
   "metadata": {},
   "outputs": [],
   "source": [
    "for indice, fila in df_unido.iterrows():\n",
    "\n",
    "    query_uni = f\"\"\"\n",
    "                INSERT INTO universidades (nombre_universidad, pagina_web, paises_idestado) \n",
    "                VALUES ('{fila[\"name\"]}', '{fila[\"web_pages\"]}', '{sacar_id_estado(fila[\"state_province\"])}');\n",
    "                \"\"\"\n",
    "    universidades = check_universidades('evaluacion')\n",
    "    lista_universidades = [i[0] for i in universidades]\n",
    "    if len(universidades) == 0 or fila['name'] not in lista_universidades: \n",
    "        crear_insertar_tabla('evaluacion','AlumnaAdalab',query_uni)"
   ]
  }
 ],
 "metadata": {
  "kernelspec": {
   "display_name": "base",
   "language": "python",
   "name": "python3"
  },
  "language_info": {
   "codemirror_mode": {
    "name": "ipython",
    "version": 3
   },
   "file_extension": ".py",
   "mimetype": "text/x-python",
   "name": "python",
   "nbconvert_exporter": "python",
   "pygments_lexer": "ipython3",
   "version": "3.9.7"
  },
  "orig_nbformat": 4
 },
 "nbformat": 4,
 "nbformat_minor": 2
}
